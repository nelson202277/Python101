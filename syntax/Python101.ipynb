{
 "cells": [
  {
   "cell_type": "markdown",
   "id": "f0af60b9-acb5-41d1-8b58-c33febda2c2d",
   "metadata": {},
   "source": [
    "# Intro\n",
    "This note is based on [boot.dev Learn to Code in Python ](https://www.boot.dev/lessons/78b4646f-85aa-42c7-ba46-faec2f0902a9).\n"
   ]
  },
  {
   "cell_type": "markdown",
   "id": "f01d197f-1ad2-4491-921e-7394f7037e71",
   "metadata": {},
   "source": [
    "## What Is “Code”?\n",
    "1. Code is just a series of instructions for a computer to follow one after another. Programs can have a lot of instructions.\n",
    "2. Code runs in order, starting at the top of the program. For example:"
   ]
  },
  {
   "cell_type": "code",
   "execution_count": 18,
   "id": "410790d7-e800-4a25-8ca5-b0d91a7a3ec1",
   "metadata": {},
   "outputs": [
    {
     "name": "stdout",
     "output_type": "stream",
     "text": [
      "asdf\n",
      "zxcv\n",
      "qer\n"
     ]
    }
   ],
   "source": [
    "print('asdf')\n",
    "print('zxcv')\n",
    "print('qer')"
   ]
  },
  {
   "cell_type": "markdown",
   "id": "90a008ed-59ab-4131-827e-bf85a8c309b2",
   "metadata": {},
   "source": [
    "## Elements of an instruction(sentence) in a programming language\n",
    "- varibales\n",
    "- operator\n",
    "- functions"
   ]
  },
  {
   "cell_type": "markdown",
   "id": "cf103f5a-4258-46a5-bd55-c9a06b8a8e1f",
   "metadata": {},
   "source": [
    "### **variable and Identifier**\n",
    "1. Variables are how we store data as our program runs. Up 'till now we've been printing data by passing it straight into print(). Now we're going to save the data in variables so we can reuse it and change it before printing it.\n",
    "2. An identifier is used to name a variable, class, module, function, or any other element within code. Identifiers are used to name variables in computer programming languages. It helps programmers to identify and differentiate them from other entities.\n",
    "There is no restriction on the length of identifiers.\n",
    "* Identifier in Python is **case-sensitive**\n",
    "* Special symbols like *!,@,#,%,* etc. Are **not allowed** in identifiers. But \"_\" underscore is allowed.\n",
    "* You cannot define the **[reserve keywords](https://www.geeksforgeeks.org/python-keywords-and-identifiers/)** as the identifier, they have special meaning in the Python language.\n",
    "* An identifier cannot start with a digit. If it starts with a digit, it will give a Syntax Error in the Python language.\n",
    "* An identifier is a combination of character digits and underscore. Characters include lowercase and uppercase with 0 to 9 digits and underscore."
   ]
  },
  {
   "cell_type": "code",
   "execution_count": 19,
   "id": "8487251a-5c08-43fa-937f-b804bbfa78ca",
   "metadata": {},
   "outputs": [
    {
     "name": "stdout",
     "output_type": "stream",
     "text": [
      "100 Anne\n"
     ]
    }
   ],
   "source": [
    "#Storing value to variable/ Assinge value to variable\n",
    "money=100\n",
    "name='Anne'\n",
    "print(money,name)"
   ]
  },
  {
   "cell_type": "code",
   "execution_count": 39,
   "id": "6331a6f5-2515-47a8-b017-9d05bb3b167e",
   "metadata": {},
   "outputs": [
    {
     "name": "stdout",
     "output_type": "stream",
     "text": [
      "Anthony\n",
      "1000\n"
     ]
    }
   ],
   "source": [
    "_name='Anthony'\n",
    "print(_name)\n",
    "___money=1000\n",
    "print(___money)"
   ]
  },
  {
   "cell_type": "code",
   "execution_count": 40,
   "id": "31e67163-4649-4594-8ee6-3276dcdd3642",
   "metadata": {},
   "outputs": [
    {
     "name": "stdout",
     "output_type": "stream",
     "text": [
      "True False\n"
     ]
    }
   ],
   "source": [
    "is_women=True\n",
    "is_healthy=False\n",
    "print(is_women,is_healthy)"
   ]
  },
  {
   "cell_type": "code",
   "execution_count": 80,
   "id": "66f9d87a-1e02-4ccd-b0ff-c3c6226907c4",
   "metadata": {},
   "outputs": [
    {
     "ename": "SyntaxError",
     "evalue": "invalid decimal literal (2708275668.py, line 2)",
     "output_type": "error",
     "traceback": [
      "\u001b[1;36m  Cell \u001b[1;32mIn[80], line 2\u001b[1;36m\u001b[0m\n\u001b[1;33m    1s=1\u001b[0m\n\u001b[1;37m    ^\u001b[0m\n\u001b[1;31mSyntaxError\u001b[0m\u001b[1;31m:\u001b[0m invalid decimal literal\n"
     ]
    }
   ],
   "source": [
    "#Invalid name\n",
    "1s=1\n"
   ]
  },
  {
   "cell_type": "code",
   "execution_count": 79,
   "id": "f97a9616-973a-4399-896c-a5ad0c702174",
   "metadata": {},
   "outputs": [
    {
     "ename": "SyntaxError",
     "evalue": "invalid syntax (2805834129.py, line 1)",
     "output_type": "error",
     "traceback": [
      "\u001b[1;36m  Cell \u001b[1;32mIn[79], line 1\u001b[1;36m\u001b[0m\n\u001b[1;33m    $d=6\u001b[0m\n\u001b[1;37m    ^\u001b[0m\n\u001b[1;31mSyntaxError\u001b[0m\u001b[1;31m:\u001b[0m invalid syntax\n"
     ]
    }
   ],
   "source": [
    "$d=6\n"
   ]
  },
  {
   "cell_type": "code",
   "execution_count": 83,
   "id": "3c7f4295-8134-4ba8-8d33-1cd4e34be893",
   "metadata": {},
   "outputs": [
    {
     "ename": "SyntaxError",
     "evalue": "invalid syntax (1868441861.py, line 1)",
     "output_type": "error",
     "traceback": [
      "\u001b[1;36m  Cell \u001b[1;32mIn[83], line 1\u001b[1;36m\u001b[0m\n\u001b[1;33m    g(=4\u001b[0m\n\u001b[1;37m      ^\u001b[0m\n\u001b[1;31mSyntaxError\u001b[0m\u001b[1;31m:\u001b[0m invalid syntax\n"
     ]
    }
   ],
   "source": [
    "g(=4"
   ]
  },
  {
   "cell_type": "markdown",
   "id": "c691b1c4-3d99-4548-bee5-3c447b89abe7",
   "metadata": {},
   "source": [
    "#### variable Type\n",
    "1. Basic\n",
    "    - number\n",
    "        * int\n",
    "            * binary\n",
    "            * octal\n",
    "            * hexadecimal\n",
    "        * float\n",
    "    - string\n",
    "        * bytes/unicode string\n",
    "    - boolean\n",
    "        * True\n",
    "        * False\n",
    "    - None\n",
    "2. Basic Iterable\n",
    "    - Tuple\n",
    "    - List\n",
    "    - Set\n",
    "    - Dict\n",
    "3. Class\n",
    "    - class\n"
   ]
  },
  {
   "cell_type": "markdown",
   "id": "b1425748-f5e7-4443-ab2d-181925bf5b3b",
   "metadata": {},
   "source": [
    "Dynamic Typing\n",
    "\n",
    "Python is dynamically typed, which means a variable can store any type, and that type can change.\n",
    "\n",
    "For example, if I make a number variable, I can later change that variable to a string:"
   ]
  },
  {
   "cell_type": "code",
   "execution_count": 93,
   "id": "76db60bc-4f6c-4645-ba0a-e1694ba33050",
   "metadata": {},
   "outputs": [
    {
     "name": "stdout",
     "output_type": "stream",
     "text": [
      "5\n",
      "five\n",
      "5.5\n",
      "False\n",
      "None\n"
     ]
    }
   ],
   "source": [
    "speed = 5\n",
    "print(speed)\n",
    "speed = \"five\"\n",
    "print(speed)\n",
    "speed = 5.5\n",
    "print(speed)\n",
    "speed = False\n",
    "print(speed)\n",
    "speed = None\n",
    "print(speed)"
   ]
  },
  {
   "cell_type": "code",
   "execution_count": 45,
   "id": "7fc0cb07-c092-4bc1-913d-528e4b0517bc",
   "metadata": {},
   "outputs": [
    {
     "name": "stdout",
     "output_type": "stream",
     "text": [
      "1 1.2 1 9 273 273\n"
     ]
    }
   ],
   "source": [
    "a,b=1,1.2\n",
    "a1=0b001\n",
    "a2=0o011\n",
    "a3=0x111\n",
    "print(a,b,a1,a2,a3,256+16+1)"
   ]
  },
  {
   "cell_type": "code",
   "execution_count": 99,
   "id": "123f7037-5c3c-4a81-afa6-3a7d267ce9db",
   "metadata": {},
   "outputs": [
    {
     "name": "stdout",
     "output_type": "stream",
     "text": [
      "a asdf b'asdf' ßÞ b'\\xc3\\x9f\\xc3\\x9e' b'\\xff\\xfe\\xdf\\x00\\xde\\x00'\n"
     ]
    }
   ],
   "source": [
    "a,b,a1='a','asdf',str(123123)\n",
    "\n",
    "a2='\\u00df\\u00de'\n",
    "print(a,b, str.encode(b),a2, str.encode(a2),str.encode(a2,'utf-16'))"
   ]
  },
  {
   "cell_type": "markdown",
   "id": "48839c65-0281-430b-bd08-6f81500450da",
   "metadata": {},
   "source": [
    "[Encoding of ß](https://www.compart.com/en/unicode/U+00DF)"
   ]
  },
  {
   "cell_type": "markdown",
   "id": "68081e8f-dfcb-404b-beb4-fb6f2a0a138c",
   "metadata": {},
   "source": [
    "#### **Formatted string**\n",
    "syntax: `f'plain text{variable}plain text'`"
   ]
  },
  {
   "cell_type": "code",
   "execution_count": 66,
   "id": "83efb73b-a197-4978-835e-9c92b280b3ba",
   "metadata": {},
   "outputs": [
    {
     "name": "stdout",
     "output_type": "stream",
     "text": [
      "Hello world!\n",
      "The secret number is 123\n",
      "Your answer is False\n",
      "\n",
      "First_word ='Hello' Second_word = 'world'!\n",
      "The secret number is Third_word= 123\n",
      "Your answer is Fourth_word=False\n",
      "===\n"
     ]
    }
   ],
   "source": [
    "First_word='Hello'\n",
    "Second_word='world'\n",
    "Third_word=123\n",
    "Fourth_word=False\n",
    "print(f'{First_word} {Second_word}!\\nThe secret number is {Third_word}\\nYour answer is {Fourth_word}')\n",
    "print()\n",
    "print(f'{First_word =} {Second_word = }!\\nThe secret number is {Third_word= }\\nYour answer is {Fourth_word=}',end='\\n===\\n')\n"
   ]
  },
  {
   "cell_type": "code",
   "execution_count": 110,
   "id": "351cb40c-0632-48e8-993f-90b3b913f687",
   "metadata": {},
   "outputs": [
    {
     "name": "stdout",
     "output_type": "stream",
     "text": [
      "as\n",
      "\tdf\n",
      "'as\\n\\tdf'\n",
      "as\n",
      "\tdf\n",
      "'as\\n\\tdf'\n"
     ]
    }
   ],
   "source": [
    "a=\"as\\n\\tdf\"\n",
    "b='as\\n\\tdf'\n",
    "print(a)\n",
    "print(repr(a))\n",
    "print(b)\n",
    "print(repr(b))"
   ]
  },
  {
   "cell_type": "code",
   "execution_count": 105,
   "id": "58b985b7-3725-4b13-b53c-3ab663caab96",
   "metadata": {},
   "outputs": [
    {
     "data": {
      "text/plain": [
       "'asdfasdf\\n\\nasdf\\tasdf'"
      ]
     },
     "execution_count": 105,
     "metadata": {},
     "output_type": "execute_result"
    }
   ],
   "source": [
    "'''asdfasdf\n",
    "\\nasdf\\tasdf'''"
   ]
  },
  {
   "cell_type": "code",
   "execution_count": 108,
   "id": "bd33d072-fcb4-4ae1-ae04-d78fa426b3a7",
   "metadata": {},
   "outputs": [
    {
     "ename": "SyntaxError",
     "evalue": "unterminated string literal (detected at line 1) (647258499.py, line 1)",
     "output_type": "error",
     "traceback": [
      "\u001b[1;36m  Cell \u001b[1;32mIn[108], line 1\u001b[1;36m\u001b[0m\n\u001b[1;33m    'asdfasdf\u001b[0m\n\u001b[1;37m    ^\u001b[0m\n\u001b[1;31mSyntaxError\u001b[0m\u001b[1;31m:\u001b[0m unterminated string literal (detected at line 1)\n"
     ]
    }
   ],
   "source": [
    "'asdfasdf\n",
    "\\n'"
   ]
  },
  {
   "cell_type": "code",
   "execution_count": 67,
   "id": "d7a3e2c7-4eed-463f-9363-3de5719f37b5",
   "metadata": {},
   "outputs": [
    {
     "name": "stdout",
     "output_type": "stream",
     "text": [
      "True False\n"
     ]
    }
   ],
   "source": [
    "is_women=True\n",
    "is_healthy=False\n",
    "print(is_women,is_healthy)"
   ]
  },
  {
   "cell_type": "code",
   "execution_count": 91,
   "id": "61285ab4-683f-43ef-b9da-6e4591063850",
   "metadata": {},
   "outputs": [
    {
     "name": "stdout",
     "output_type": "stream",
     "text": [
      "asdf\n",
      "None <class 'NoneType'>\n",
      "<class 'int'> <class 'float'> <class 'str'> <class 'str'> <class 'bytes'> <class 'bool'>\n"
     ]
    }
   ],
   "source": [
    "print(type(1),type(1.1),type('asdf'),type('a'),type(b'asdf'),type(True))"
   ]
  },
  {
   "cell_type": "code",
   "execution_count": 124,
   "id": "5c4813d8-6f68-4ea1-b438-cb8792c67a8b",
   "metadata": {},
   "outputs": [
    {
     "name": "stdout",
     "output_type": "stream",
     "text": [
      "[1, 2, 3, 4]\n",
      "1 a 3.4 True\n",
      "(1, 2, 3, 4)\n",
      "1 a 3.4 True\n",
      "{1, 2, 3, 4}\n",
      "1 3.4 a\n",
      "4 7 12 8\n"
     ]
    }
   ],
   "source": [
    "a=[1,2,3,4]\n",
    "print(a)\n",
    "a,b,c,d=[1,'a',3.4,True]\n",
    "print(a,b,c,d)\n",
    "a=(1,2,3,4)\n",
    "print(a)\n",
    "a,b,c,d=(1,'a',3.4,True)\n",
    "print(a,b,c,d)\n",
    "a={1,2,3,4}\n",
    "print(a)\n",
    "a,b,c={1,'a',3.4}\n",
    "print(a,b,c)\n",
    "a=(1,2,3,4)\n",
    "b=[1,2,3,4,5,6,7]\n",
    "c=(1,2,3,4,5,6,7,7,8,8,8,8)\n",
    "d={1,2,3,4,5,6,7,7,8,8,8,8}\n",
    "print(len(a),len(b),len(c),len(d))\n"
   ]
  },
  {
   "cell_type": "code",
   "execution_count": 121,
   "id": "00251c76-94a2-4229-93ee-82d807ec1b76",
   "metadata": {},
   "outputs": [
    {
     "name": "stdout",
     "output_type": "stream",
     "text": [
      "{1} {0}\n"
     ]
    }
   ],
   "source": [
    "a={1,True}\n",
    "b={0,False}\n",
    "print(a,b)"
   ]
  },
  {
   "cell_type": "code",
   "execution_count": null,
   "id": "1dc9122e-e3f9-42fb-8d82-4f2bb833a60a",
   "metadata": {},
   "outputs": [],
   "source": [
    "a=[1,2,3,4]\n",
    "print(a)\n",
    "a,b,c,d=[1,'a',3.4,True]\n",
    "print(a,b,c,d)\n",
    "a=(1,2,3,4)\n",
    "a={1,2,3,4}"
   ]
  },
  {
   "cell_type": "code",
   "execution_count": null,
   "id": "943997ff-895c-438a-9833-e40f12d0abcd",
   "metadata": {},
   "outputs": [],
   "source": [
    "a={'name':\"Tony\",\"}"
   ]
  },
  {
   "cell_type": "markdown",
   "id": "a270d9b0-2727-43c8-8696-55287d82783e",
   "metadata": {},
   "source": [
    "### Operator\n",
    "Symbols stands for performing operation on at least on variable. *unary,binary,ternary(does not exist in python)*\n",
    "Operator could only take effect on certain combination of types of  variable.\n",
    "+,-,\\*,/,//,%%,&,|,and,or  **@(numpy matrix multiplication)**"
   ]
  },
  {
   "cell_type": "code",
   "execution_count": 69,
   "id": "f7bcc936-98d9-45ac-b30d-3d4e7054d5a4",
   "metadata": {},
   "outputs": [
    {
     "name": "stdout",
     "output_type": "stream",
     "text": [
      "2\n",
      "-2\n",
      "12\n",
      "-8\n",
      "20\n",
      "0.2\n"
     ]
    }
   ],
   "source": [
    "a=2\n",
    "b=10\n",
    "print(+a)\n",
    "print(-a)\n",
    "print(a+b)\n",
    "print(a-b)\n",
    "print(a*b)\n",
    "print(a/b)\n",
    "print(a**b)\n",
    "\n",
    "print(16e3)\n",
    "# Prints 16000.0\n",
    "print(7.1e-2)\n",
    "num = 16_000\n",
    "print(num)\n",
    "# Prints 16000\n",
    "num = 16_000_000\n",
    "print(num)\n",
    "negative_infinity = float(\"-inf\")\n",
    "positive_infinity = float(\"inf\")\n"
   ]
  },
  {
   "cell_type": "code",
   "execution_count": 134,
   "id": "18d08455-c161-41ce-a383-728354b24af1",
   "metadata": {},
   "outputs": [
    {
     "name": "stdout",
     "output_type": "stream",
     "text": [
      "1\n",
      "2\n",
      "-7\n",
      "-14\n",
      "-4.666666666666667\n",
      "-1.666666666666667\n",
      "9\n"
     ]
    }
   ],
   "source": [
    "a=1\n",
    "b=3\n",
    "print(a)\n",
    "a+=1\n",
    "print(a)\n",
    "a-=9\n",
    "print(a)\n",
    "a*=2\n",
    "print(a)\n",
    "a/=3\n",
    "print(a)\n",
    "a+=b\n",
    "print(a)\n",
    "b**=2\n",
    "print(b)"
   ]
  },
  {
   "cell_type": "code",
   "execution_count": 70,
   "id": "326bb261-5ba0-465f-98c6-d33303f52a0e",
   "metadata": {},
   "outputs": [
    {
     "name": "stdout",
     "output_type": "stream",
     "text": [
      "asdfzxcv\n",
      "Anthony_house\n"
     ]
    }
   ],
   "source": [
    "print('asdf'+'zxcv')\n",
    "print(name+'_house')"
   ]
  },
  {
   "cell_type": "code",
   "execution_count": 71,
   "id": "db76d17c-ed9c-4e79-9d64-6fc1aa508064",
   "metadata": {},
   "outputs": [
    {
     "name": "stdout",
     "output_type": "stream",
     "text": [
      "False\n",
      "True\n"
     ]
    }
   ],
   "source": [
    "print(is_healthy and is_women)\n",
    "print(is_healthy or is_women)"
   ]
  },
  {
   "cell_type": "code",
   "execution_count": 72,
   "id": "07c2e761-6c3b-4212-b1d3-c3e92d368c28",
   "metadata": {},
   "outputs": [
    {
     "name": "stdout",
     "output_type": "stream",
     "text": [
      "0\n",
      "3\n",
      "3\n",
      "1\n",
      "(3, 1)\n",
      "(0, 3)\n"
     ]
    }
   ],
   "source": [
    "c=3\n",
    "print(c//b)\n",
    "print(b//c)\n",
    "print(c%b)\n",
    "print(b%c)\n",
    "print(divmod(b,c))\n",
    "print(divmod(c,b))"
   ]
  },
  {
   "cell_type": "code",
   "execution_count": 73,
   "id": "e579756d-252e-49fd-a51a-4eaed86c32f9",
   "metadata": {},
   "outputs": [
    {
     "name": "stdout",
     "output_type": "stream",
     "text": [
      "3\n",
      "-30\n",
      "-240\n"
     ]
    }
   ],
   "source": [
    "print(b//(a+1))\n",
    "print(5*a+b*-4)\n",
    "print(5*(a+b)*-4)"
   ]
  },
  {
   "cell_type": "code",
   "execution_count": 74,
   "id": "e7848f0d-8e0c-41f2-8f91-e043decdad48",
   "metadata": {},
   "outputs": [
    {
     "ename": "TypeError",
     "evalue": "unsupported operand type(s) for +: 'int' and 'str'",
     "output_type": "error",
     "traceback": [
      "\u001b[1;31m---------------------------------------------------------------------------\u001b[0m",
      "\u001b[1;31mTypeError\u001b[0m                                 Traceback (most recent call last)",
      "Cell \u001b[1;32mIn[74], line 1\u001b[0m\n\u001b[1;32m----> 1\u001b[0m \u001b[38;5;28mprint\u001b[39m(\u001b[43ma\u001b[49m\u001b[38;5;241;43m+\u001b[39;49m\u001b[38;5;124;43m'\u001b[39;49m\u001b[38;5;124;43masdf\u001b[39;49m\u001b[38;5;124;43m'\u001b[39;49m)\n",
      "\u001b[1;31mTypeError\u001b[0m: unsupported operand type(s) for +: 'int' and 'str'"
     ]
    }
   ],
   "source": [
    "print(a+'asdf')"
   ]
  },
  {
   "cell_type": "code",
   "execution_count": 25,
   "id": "65ed2ffd-5fd7-40da-ba20-43b85c978ced",
   "metadata": {},
   "outputs": [
    {
     "data": {
      "text/plain": [
       "False"
      ]
     },
     "execution_count": 25,
     "metadata": {},
     "output_type": "execute_result"
    }
   ],
   "source": [
    "1<2\n",
    "1<=2\n",
    "1>2\n",
    "1>=2\n",
    "2<2\n",
    "2<=2\n",
    "2>2\n",
    "2>=2\n",
    "'a'=='a'\n",
    "'a'!='a'\n",
    "'a'<'b'\n",
    "a=2\n",
    "a is None\n",
    "a=\"\"\n",
    "a is None\n",
    "a=None\n",
    "a is None\n",
    "a=False\n",
    "a is None"
   ]
  },
  {
   "cell_type": "code",
   "execution_count": 128,
   "id": "3c3c1cf8-a782-48e1-951a-ba3f4f6329f4",
   "metadata": {},
   "outputs": [
    {
     "name": "stdout",
     "output_type": "stream",
     "text": [
      "False\n",
      "True\n"
     ]
    }
   ],
   "source": [
    "#AND\n",
    "True and True == True\n",
    "True and False == False\n",
    "False and False == False\n",
    "#OR\n",
    "True or True == True\n",
    "True or False == True\n",
    "False or False == False\n",
    "#NOT\n",
    "print(not True)\n",
    "print(not False)"
   ]
  },
  {
   "cell_type": "code",
   "execution_count": 137,
   "id": "7038146b-c9cd-44a7-be21-b87ce0a9584b",
   "metadata": {},
   "outputs": [
    {
     "name": "stdout",
     "output_type": "stream",
     "text": [
      "5 0b101\n",
      "7 0b111\n"
     ]
    }
   ],
   "source": [
    "# Bitwise “&” “|” Operator\n",
    "# 0101\n",
    "# |\n",
    "# 0010\n",
    "# =\n",
    "# 0111 = 5\n",
    "\n",
    "# 0101\n",
    "# &\n",
    "# 0010\n",
    "# =\n",
    "# 0000 = 7\n",
    "binary_five = 0b0101\n",
    "binary_seven = 0b0111\n",
    "print(binary_five&binary_seven,bin(binary_five&binary_seven))\n",
    "print(binary_five|binary_seven,bin(binary_five|binary_seven))"
   ]
  },
  {
   "cell_type": "code",
   "execution_count": 75,
   "id": "739075b6-9319-4bee-9948-cedbf2537b70",
   "metadata": {},
   "outputs": [
    {
     "name": "stdout",
     "output_type": "stream",
     "text": [
      "3\n"
     ]
    }
   ],
   "source": [
    "# implicit coercion\n",
    "print(a+True)"
   ]
  },
  {
   "cell_type": "markdown",
   "id": "60b9c7fc-682d-490e-b9bc-75b697802bdb",
   "metadata": {},
   "source": [
    "### list tuple and Set"
   ]
  },
  {
   "cell_type": "code",
   "execution_count": 87,
   "id": "32218ac3-60e3-49cf-982b-204182b12b66",
   "metadata": {},
   "outputs": [
    {
     "name": "stdout",
     "output_type": "stream",
     "text": [
      "Go\n",
      "8\n",
      "['Java', 'Go', 'Rust', 'Python', 'C', 'Zig', 'C++', 'Ocamel']\n",
      "['Java', 'Go', 'Rust', 'Python', 'C', 'Zig', 'C++'] Ocamel\n",
      "====\n",
      "['Java', 'Go', 'Rust']\n",
      "C++\n",
      "['Rust', 'Python', 'C', 'Zig', 'C++']\n",
      "['Java', 'Go', 'Rust', 'Python', 'C', 'Zig']\n",
      "['Zig', 'C++']\n",
      "['Go', 'Rust']\n",
      "best_languages[:5:2] = ['Java', 'Rust', 'C']\n",
      "best_languages[1:6:2] = ['Go', 'Python', 'Zig']\n",
      "====\n",
      "best_languages only has indexes (0, 1, 2, 3, 4, 5, 6) but all these work\n",
      "best_languages[-99:5] = ['Java', 'Go', 'Rust', 'Python', 'C']\n",
      "best_languages[-99:100] = ['Java', 'Go', 'Rust', 'Python', 'C', 'Zig', 'C++']\n",
      "best_languages[-99:100:2] = ['Java', 'Rust', 'C', 'C++']\n",
      "True\n"
     ]
    }
   ],
   "source": [
    "\n",
    "best_languages = [\"JavaScript\", \"Go\", \"Rust\", \"Python\", \"C\"]\n",
    "print(best_languages[1])\n",
    "print(f'{len(best_languages) = }')\n",
    "\n",
    "best_languages[0]='Java'\n",
    "best_languages.append('Zig')\n",
    "best_languages.extend(['C++','Ocamel'])\n",
    "print(len(best_languages))\n",
    "print(best_languages)\n",
    "a=best_languages.pop()\n",
    "print(best_languages,a)\n",
    "print(best_languages.index(\"Python\"))\n",
    "\n",
    "\n",
    "print('====')\n",
    "print(best_languages[:3])\n",
    "print(best_languages[-1])\n",
    "print(best_languages[2:])\n",
    "print(best_languages[:-1])\n",
    "print(best_languages[-2:])\n",
    "print(best_languages[1:3])\n",
    "print(f'{best_languages[:5:2] = }')\n",
    "print(f'{best_languages[1:6:2] = }')\n",
    "print('====')\n",
    "print(f'best_languages only has indexes {tuple(range(len(best_languages))) } but all these work')\n",
    "\n",
    "print(f'{best_languages[-99:5] = }')\n",
    "print(f'{best_languages[-99:100] = }')\n",
    "print(f'{best_languages[-99:100:2] = }')\n",
    "print(\"C\" in best_languages)"
   ]
  },
  {
   "cell_type": "code",
   "execution_count": 134,
   "id": "5e17f5be-25e9-464f-91e7-b623c2d42e95",
   "metadata": {},
   "outputs": [
    {
     "name": "stdout",
     "output_type": "stream",
     "text": [
      "Go\n",
      "len(best_languages) = 5\n"
     ]
    }
   ],
   "source": [
    "best_languages = (\"JavaScript\", \"Go\", \"Rust\", \"Python\", \"C\")\n",
    "print(best_languages[1])\n",
    "print(f'{len(best_languages) = }')\n"
   ]
  },
  {
   "cell_type": "code",
   "execution_count": 72,
   "id": "4d6fb6f8-4389-41c5-bd22-a1abea8f23ad",
   "metadata": {},
   "outputs": [
    {
     "ename": "TypeError",
     "evalue": "'tuple' object does not support item assignment",
     "output_type": "error",
     "traceback": [
      "\u001b[1;31m---------------------------------------------------------------------------\u001b[0m",
      "\u001b[1;31mTypeError\u001b[0m                                 Traceback (most recent call last)",
      "Cell \u001b[1;32mIn[72], line 1\u001b[0m\n\u001b[1;32m----> 1\u001b[0m \u001b[43mbest_languages\u001b[49m\u001b[43m[\u001b[49m\u001b[38;5;241;43m0\u001b[39;49m\u001b[43m]\u001b[49m\u001b[38;5;241m=\u001b[39m\u001b[38;5;124m'\u001b[39m\u001b[38;5;124mJava\u001b[39m\u001b[38;5;124m'\u001b[39m\n",
      "\u001b[1;31mTypeError\u001b[0m: 'tuple' object does not support item assignment"
     ]
    }
   ],
   "source": [
    "best_languages[0]='Java'"
   ]
  },
  {
   "cell_type": "code",
   "execution_count": null,
   "id": "95d12aa6-9ad6-47e7-8167-ec606a9d1e9c",
   "metadata": {},
   "outputs": [],
   "source": [
    "del best_languages[2]"
   ]
  },
  {
   "cell_type": "code",
   "execution_count": null,
   "id": "e9c1f3f2-f2f6-4520-a84d-6d40459b84fa",
   "metadata": {},
   "outputs": [],
   "source": [
    "best_languages.append('Zig')"
   ]
  },
  {
   "cell_type": "code",
   "execution_count": null,
   "id": "88bbd4ef-270d-4475-8d2f-a0f8bf89640a",
   "metadata": {},
   "outputs": [],
   "source": [
    "best_languages.extend(['C++','Ocamel'])"
   ]
  },
  {
   "cell_type": "code",
   "execution_count": 76,
   "id": "2adcc398-9288-4332-b473-4f3bda4c5e32",
   "metadata": {},
   "outputs": [
    {
     "ename": "AttributeError",
     "evalue": "'tuple' object has no attribute 'pop'",
     "output_type": "error",
     "traceback": [
      "\u001b[1;31m---------------------------------------------------------------------------\u001b[0m",
      "\u001b[1;31mAttributeError\u001b[0m                            Traceback (most recent call last)",
      "Cell \u001b[1;32mIn[76], line 1\u001b[0m\n\u001b[1;32m----> 1\u001b[0m a\u001b[38;5;241m=\u001b[39m\u001b[43mbest_languages\u001b[49m\u001b[38;5;241;43m.\u001b[39;49m\u001b[43mpop\u001b[49m()\n",
      "\u001b[1;31mAttributeError\u001b[0m: 'tuple' object has no attribute 'pop'"
     ]
    }
   ],
   "source": [
    "a=best_languages.pop()"
   ]
  },
  {
   "cell_type": "code",
   "execution_count": 135,
   "id": "e553576a-8f4d-4d39-a71a-3fa8d7c88874",
   "metadata": {},
   "outputs": [
    {
     "name": "stdout",
     "output_type": "stream",
     "text": [
      "('JavaScript', 'Go', 'Rust', 'Python', 'C')\n",
      "5\n",
      "3\n",
      "====\n",
      "('JavaScript', 'Go', 'Rust')\n",
      "C\n",
      "('Rust', 'Python', 'C')\n",
      "('JavaScript', 'Go', 'Rust', 'Python')\n",
      "('Python', 'C')\n",
      "('Go', 'Rust')\n",
      "====\n",
      "len(best_languages) = 5 but all these work\n",
      "best_languages[1:5:2] = ('Go', 'Python')\n",
      "best_languages[-99:5:] = ('JavaScript', 'Go', 'Rust', 'Python', 'C')\n",
      "best_languages[-99:100] = ('JavaScript', 'Go', 'Rust', 'Python', 'C')\n",
      "best_languages[-99:100:2] = ('JavaScript', 'Rust', 'C')\n",
      "True\n"
     ]
    }
   ],
   "source": [
    "print(best_languages)\n",
    "print(len(best_languages))\n",
    "print(best_languages.index(\"Python\"))\n",
    "print('====')\n",
    "print(best_languages[:3])\n",
    "print(best_languages[-1])\n",
    "print(best_languages[2:])\n",
    "print(best_languages[:-1])\n",
    "print(best_languages[-2:])\n",
    "print(best_languages[1:3])\n",
    "print('====')\n",
    "print(f'{len(best_languages) = } but all these work')\n",
    "print(f'{best_languages[1:5:2] = }')\n",
    "print(f'{best_languages[-99:5:] = }')\n",
    "print(f'{best_languages[-99:100] = }')\n",
    "print(f'{best_languages[-99:100:2] = }')\n",
    "print(\"C\" in best_languages)\n"
   ]
  },
  {
   "cell_type": "code",
   "execution_count": null,
   "id": "f9849dba-3ed3-47ec-9a6b-002f55632c2e",
   "metadata": {},
   "outputs": [],
   "source": [
    "a=(3)\n",
    "b=(3,)\n",
    "print(f'!!!!!!!{type(a) = } is not tuple, {type(b) = } is tuple!!!!!')"
   ]
  },
  {
   "cell_type": "code",
   "execution_count": 1,
   "id": "de8ab9ea-9efa-4328-8873-fcdd8cbe7a77",
   "metadata": {},
   "outputs": [
    {
     "name": "stdout",
     "output_type": "stream",
     "text": [
      "{'Go', 'C', 'Python', 'Rust', 'JavaScript'}\n",
      "len(best_languages) = 5\n",
      "{'Go', 'C', 'Python', 'Rust', 'JavaScript'}\n",
      "{'C', 'Python', 'Rust', 'JavaScript'} Go\n"
     ]
    },
    {
     "ename": "NameError",
     "evalue": "name 'C' is not defined",
     "output_type": "error",
     "traceback": [
      "\u001b[1;31m---------------------------------------------------------------------------\u001b[0m",
      "\u001b[1;31mNameError\u001b[0m                                 Traceback (most recent call last)",
      "Cell \u001b[1;32mIn[1], line 7\u001b[0m\n\u001b[0;32m      5\u001b[0m a\u001b[38;5;241m=\u001b[39mbest_languages\u001b[38;5;241m.\u001b[39mpop()\n\u001b[0;32m      6\u001b[0m \u001b[38;5;28mprint\u001b[39m(best_languages,a)\n\u001b[1;32m----> 7\u001b[0m \u001b[38;5;28mprint\u001b[39m(\u001b[43mC\u001b[49m \u001b[38;5;129;01min\u001b[39;00m best_languages)\n",
      "\u001b[1;31mNameError\u001b[0m: name 'C' is not defined"
     ]
    }
   ],
   "source": [
    "best_languages = {\"JavaScript\", \"Go\", \"Rust\", \"Python\", \"C\",\"C\"}\n",
    "print(best_languages)\n",
    "print(f'{len(best_languages) = }')\n",
    "print(best_languages)\n",
    "a=best_languages.pop()\n",
    "print(best_languages,a)\n",
    "print(C in best_languages)"
   ]
  },
  {
   "cell_type": "code",
   "execution_count": null,
   "id": "481c2401-cd89-44e0-81c7-9543c7df28fc",
   "metadata": {},
   "outputs": [],
   "source": [
    "print(best_languages[1])"
   ]
  },
  {
   "cell_type": "code",
   "execution_count": null,
   "id": "a11d4124-82a5-4fda-86c7-37892b6911b4",
   "metadata": {},
   "outputs": [],
   "source": [
    "print(best_languages.index(\"Python\"))"
   ]
  },
  {
   "cell_type": "code",
   "execution_count": 91,
   "id": "7b6821bf-fc58-48e3-904c-946b4a20a9fb",
   "metadata": {},
   "outputs": [
    {
     "ename": "AttributeError",
     "evalue": "'set' object has no attribute 'append'",
     "output_type": "error",
     "traceback": [
      "\u001b[1;31m---------------------------------------------------------------------------\u001b[0m",
      "\u001b[1;31mAttributeError\u001b[0m                            Traceback (most recent call last)",
      "Cell \u001b[1;32mIn[91], line 1\u001b[0m\n\u001b[1;32m----> 1\u001b[0m \u001b[43mbest_languages\u001b[49m\u001b[38;5;241;43m.\u001b[39;49m\u001b[43mappend\u001b[49m(\u001b[38;5;124m'\u001b[39m\u001b[38;5;124mZig\u001b[39m\u001b[38;5;124m'\u001b[39m)\n",
      "\u001b[1;31mAttributeError\u001b[0m: 'set' object has no attribute 'append'"
     ]
    }
   ],
   "source": [
    "best_languages.append('Zig')"
   ]
  },
  {
   "cell_type": "code",
   "execution_count": 92,
   "id": "f8dd6601-714f-4e4f-ac2c-9e8eef9ac738",
   "metadata": {},
   "outputs": [
    {
     "ename": "AttributeError",
     "evalue": "'set' object has no attribute 'extend'",
     "output_type": "error",
     "traceback": [
      "\u001b[1;31m---------------------------------------------------------------------------\u001b[0m",
      "\u001b[1;31mAttributeError\u001b[0m                            Traceback (most recent call last)",
      "Cell \u001b[1;32mIn[92], line 1\u001b[0m\n\u001b[1;32m----> 1\u001b[0m \u001b[43mbest_languages\u001b[49m\u001b[38;5;241;43m.\u001b[39;49m\u001b[43mextend\u001b[49m([\u001b[38;5;124m'\u001b[39m\u001b[38;5;124mC++\u001b[39m\u001b[38;5;124m'\u001b[39m,\u001b[38;5;124m'\u001b[39m\u001b[38;5;124mOcamel\u001b[39m\u001b[38;5;124m'\u001b[39m])\n",
      "\u001b[1;31mAttributeError\u001b[0m: 'set' object has no attribute 'extend'"
     ]
    }
   ],
   "source": [
    "best_languages.extend(['C++','Ocamel'])"
   ]
  },
  {
   "cell_type": "code",
   "execution_count": 95,
   "id": "40f6a747-6dff-4fdc-a728-34f14766ed92",
   "metadata": {},
   "outputs": [
    {
     "ename": "TypeError",
     "evalue": "'set' object is not subscriptable",
     "output_type": "error",
     "traceback": [
      "\u001b[1;31m---------------------------------------------------------------------------\u001b[0m",
      "\u001b[1;31mTypeError\u001b[0m                                 Traceback (most recent call last)",
      "Cell \u001b[1;32mIn[95], line 1\u001b[0m\n\u001b[1;32m----> 1\u001b[0m \u001b[38;5;28mprint\u001b[39m(\u001b[43mbest_languages\u001b[49m\u001b[43m[\u001b[49m\u001b[43m:\u001b[49m\u001b[38;5;241;43m3\u001b[39;49m\u001b[43m]\u001b[49m)\n",
      "\u001b[1;31mTypeError\u001b[0m: 'set' object is not subscriptable"
     ]
    }
   ],
   "source": [
    "print(best_languages[:3])"
   ]
  },
  {
   "cell_type": "code",
   "execution_count": 106,
   "id": "240f323e-3383-4d42-945e-aac32d2f325e",
   "metadata": {},
   "outputs": [
    {
     "name": "stdout",
     "output_type": "stream",
     "text": [
      "set()\n",
      "{'Python'}\n",
      "{'JavaScript', 'Go', 'colbol', 'Rust', 'Python', 'C'}\n",
      "{'Rust', 'Go', 'C'}\n",
      "{'Rust', 'C', 'Go', 'colbol'}\n"
     ]
    }
   ],
   "source": [
    "print(best_languages.intersection({'python','colbol'}))\n",
    "print(best_languages.intersection({'Python','colbol'}))\n",
    "print(best_languages.union({'JavaScript','colbol'}))\n",
    "print(best_languages.difference({'Python','colbol'}))\n",
    "print(best_languages.symmetric_difference({'Python','colbol'}))\n"
   ]
  },
  {
   "cell_type": "markdown",
   "id": "1dafe898-6409-48e6-ad50-dca6dbe9ca34",
   "metadata": {},
   "source": [
    "### Dictionaries \n",
    "Dictionaries in Python are used to store data values in key -> value pairs. Dictionaries are a great way to store groups of information."
   ]
  },
  {
   "cell_type": "code",
   "execution_count": 113,
   "id": "88caee55-57e1-4073-9164-0f0e76101be8",
   "metadata": {},
   "outputs": [
    {
     "name": "stdout",
     "output_type": "stream",
     "text": [
      "{'brand': 'Toyota', 'model': 'Camry', 'year': 2019}\n",
      "{'brand': 'Toyota', 'year': 2019, 'type': 'Camry', 'color': 'red'}\n",
      "{'brand': 'Toyota', 'year': 2019, 'type': 'Camry', 'color': 'red', 'model': 'Honda'}\n",
      "{'brand': 'Toyota', 'year': 2019, 'type': 'Camry', 'color': 'red', 'model': 'Honda', 'length': 311, 'weight': 1.2}\n",
      "False\n",
      "{'Earth': True}\n",
      "{'Earth': True, 'Pluto': False}\n",
      "{'Earth': True, 'Pluto': True}\n",
      "name: apple, size: 10\n",
      "name: banana, size: 1.4\n",
      "name: guava, size: 33\n"
     ]
    }
   ],
   "source": [
    "\n",
    "\n",
    "# use curly braces\n",
    "# add key-value pairs\n",
    "car = {\n",
    "  \"brand\": \"Toyota\",\n",
    "  \"model\": \"Camry\",\n",
    "  \"year\": 2019\n",
    "}\n",
    "print(car)\n",
    "car['type']=car[\"model\"]\n",
    "print(car)\n",
    "del car[\"model\"]\n",
    "car['color']=\"red\"\n",
    "print(car)\n",
    "car.update(model='Honda')\n",
    "print(car)\n",
    "car.update(length=311,weight=1.2)\n",
    "print(car)\n",
    "print(\"ford\" in car)\n",
    "\n",
    "planets = {}\n",
    "planets[\"Earth\"] = True\n",
    "print(planets)\n",
    "planets[\"Pluto\"] = False\n",
    "print(planets)\n",
    "planets[\"Pluto\"] = True\n",
    "print(planets)\n",
    "fruit_sizes={'apple':10,'banana':1.4,'guava':33}\n",
    "\n",
    "\n",
    "for name in fruit_sizes:\n",
    "    size = fruit_sizes[name]\n",
    "    print(f\"name: {name}, size: {size}\")\n",
    "\n"
   ]
  },
  {
   "cell_type": "code",
   "execution_count": null,
   "id": "d24f2075-044f-4309-9f83-768a86687ca0",
   "metadata": {},
   "outputs": [],
   "source": [
    "print(car.index(\"brand\"))"
   ]
  },
  {
   "cell_type": "code",
   "execution_count": 136,
   "id": "72267bcf-cbd5-4cd9-91f9-bb038aae3cdf",
   "metadata": {},
   "outputs": [
    {
     "name": "stdout",
     "output_type": "stream",
     "text": [
      "True\n",
      "False\n",
      "True\n",
      "True\n",
      "True\n"
     ]
    }
   ],
   "source": [
    "print(\"brand\" in car)\n",
    "print(\"Toyota\" in car)\n",
    "print(\"brand\" in car.keys())\n",
    "print(\"Toyota\" in car.values())\n",
    "print(('brand', 'Toyota') in car.items())\n",
    "\n"
   ]
  },
  {
   "cell_type": "markdown",
   "id": "28880113-6c4f-4590-be14-30ed14903a1d",
   "metadata": {},
   "source": [
    "**The takeaway is that if you're on Python 3.7 or later, you'll be able to iterate over dictionaries in the same order every time.**\n",
    "```python\n",
    "for name in fruit_sizes:\n",
    "    size = fruit_sizes[name]\n",
    "    print(f\"name: {name}, size: {size}\")\n",
    "\n",
    "```"
   ]
  },
  {
   "cell_type": "code",
   "execution_count": 131,
   "id": "842791e6-0c31-4ad8-b4ce-e934699444c6",
   "metadata": {},
   "outputs": [
    {
     "name": "stdout",
     "output_type": "stream",
     "text": [
      "type(a) = <class 'dict'> is not a set but a <class 'dict'>\n"
     ]
    }
   ],
   "source": [
    "a={}\n",
    "print(f'{type(a) = } is not a set but a {type(a)}')"
   ]
  },
  {
   "cell_type": "markdown",
   "id": "a248d8a6-279b-40b0-bd7c-d9b91732b39d",
   "metadata": {},
   "source": [
    "### nested list tuple dict set"
   ]
  },
  {
   "cell_type": "code",
   "execution_count": null,
   "id": "1b59f3d0-47e0-4755-a701-969584b91d35",
   "metadata": {},
   "outputs": [],
   "source": []
  },
  {
   "cell_type": "markdown",
   "id": "86af6d72-fdab-486c-89e3-32467ce260f0",
   "metadata": {},
   "source": [
    "### Functions and Scope\n",
    "Functions allow us to reuse and organize code. Here is How to declare a function\n",
    "\n",
    "syntax:\n",
    "```python\n",
    "def FucntionName(parameter1,parameter2...)\n",
    "    ...\n",
    "    return value1\n",
    "```\n",
    "```python\n",
    "def FucntionName(parameter1,parameter2...)\n",
    "    ...\n",
    "    return value1,value2\n",
    "```\n",
    "* default value\n",
    "\n",
    "parameters with default value should be placed behind those without default value\n",
    "```python\n",
    "def FucntionName(parameter1,parameter2=1,parameter3='a'...)\n",
    "    ...\n",
    "    return value1,value2\n",
    "```\n",
    "* None Return\n",
    "When no return value is specified in a function, it will automatically return None. For example, maybe it's a function that prints some text to the console, but doesn't explicitly return a value. The following code snippets all return the same value, None:\n",
    "```python\n",
    "def FucntionName(parameter1,parameter2...)\n",
    "    ...\n",
    "```\n",
    "\n",
    "* Calling Function\n",
    "\n",
    "```python\n",
    "def f(arg1,arg2,arg3='a'):\n",
    "    print(arg1,arg2,arg3)\n",
    "\n",
    "f(1,2) => 1,2,'a'\n",
    "f(1,2,3) => 1,2,3\n",
    "f(1,2,arg3=4) => 1,2,4\n",
    "f(1,arg3=4,arg2=2) => 1,4,2\n",
    "```\n",
    "\n",
    "\n",
    "\n",
    "\n"
   ]
  },
  {
   "cell_type": "code",
   "execution_count": 141,
   "id": "3af33529-8c28-4744-bd1c-978b56c6b44f",
   "metadata": {},
   "outputs": [
    {
     "name": "stdout",
     "output_type": "stream",
     "text": [
      "78.5\n"
     ]
    }
   ],
   "source": [
    "radius = 5\n",
    "area = 3.14 * radius * radius\n",
    "print(area)"
   ]
  },
  {
   "cell_type": "code",
   "execution_count": 165,
   "id": "acec09e9-384c-498a-b6a0-c8d9ae05d140",
   "metadata": {},
   "outputs": [],
   "source": [
    "def area_and_perimeter_of_circle(r,pi=3.14):\n",
    "    \"\"\"return the area and perimeter of a circle with given radius r and pi.\"\"\"\n",
    "    pi = 3.14\n",
    "    area_result = pi * r * r\n",
    "    preimeter_result = 2*pi *  r\n",
    "    return area_result,preimeter_result"
   ]
  },
  {
   "cell_type": "code",
   "execution_count": 167,
   "id": "8c4a26ef-56e1-46fe-bd29-5955a98f850e",
   "metadata": {},
   "outputs": [
    {
     "name": "stdout",
     "output_type": "stream",
     "text": [
      "(78.5, 31.400000000000002)\n",
      "78.5 31.400000000000002\n"
     ]
    }
   ],
   "source": [
    "a=area_and_perimeter_of_circle(r=5,pi=3)\n",
    "b,c=area_and_perimeter_of_circle(5,3.14)\n",
    "print(a)\n",
    "print(b,c)"
   ]
  },
  {
   "cell_type": "markdown",
   "id": "374925e4-07d6-4a17-b484-7358ec797990",
   "metadata": {},
   "source": [
    "* ***args** and ****kargs**\n",
    "arbitrary numbers of positional/keyword arguments, or additional positional/keyword arguments\n",
    "```python\n",
    "def f(*args):\n",
    "    # unpacking all positional arguments\n",
    "    print(args,end='\\n====\\n')\n",
    "    print(*args)\n",
    "f(1)\n",
    "=>\n",
    "(1,)\n",
    "====\n",
    "1\n",
    "\n",
    "f(1,2)\n",
    "=>\n",
    "(1,2)\n",
    "====\n",
    "1, 2\n",
    "\n",
    "f(1,2,3,4,5) \n",
    "=> \n",
    "(1,2,3,4,5)\n",
    "====\n",
    "1,2,3,4,5\n",
    "\n",
    "f(a=1) => TypeError: f() got an unexpected keyword argument 'a'\n",
    "def f(**kargs):\n",
    "    def print_kargs(**kargs):\n",
    "        for i,j in kargs.items():\n",
    "            print(f'key: {i}->value: {j}',end='    ')\n",
    "        print()\n",
    "    print(kargs,end='\\n====\\n')\n",
    "    print_kargs(**kargs)\n",
    "    \n",
    "    \n",
    "f(1) => TypeError: f() takes 0 positional arguments but 1 was given\n",
    "f(a=1)\n",
    "=> \n",
    "{'a': 1}\n",
    "====\n",
    "key: a->value: 1\n",
    "\n",
    "f(a=1,b=2)\n",
    "{'a': 1, 'b': 2}\n",
    "====\n",
    "key: a->value: 1    key: b->value: 2\n",
    "\n",
    "f(a=1,b=2,c=3,e=4) => {'a': 1, 'b': 2, 'c': 3, 'e': 4}\n",
    "{'a': 1, 'b': 2, 'c': 3, 'e': 4}\n",
    "====\n",
    "key: a->value: 1    key: b->value: 2    key: c->value: 3    key: e->value: 4\n",
    "\n",
    "def f(a,b,c='asdf',*args,**kargs):\n",
    "    def print_kargs(**kargs):\n",
    "        for i,j in kargs.items():\n",
    "            print(f'key: {i}->value: {j}',end='    ')\n",
    "        print()\n",
    "    print('These are ordinary arguments: ',end='')\n",
    "    print(a,b,c)\n",
    "    print('These are additional positional arguments: ',end='')\n",
    "    print(*args)\n",
    "    print('These are additional keyword arguments: ',end='')\n",
    "    print_kargs(**kargs)\n",
    "f(1,2)\n",
    "=>\n",
    "These are ordinary arguments: 1 2 asdf\n",
    "These are additional positional arguments:\n",
    "These are additional keyword arguments:\n",
    "\n",
    "f(1,2,3)\n",
    "=>\n",
    "These are ordinary arguments: 1 2 3\n",
    "These are additional positional arguments:\n",
    "These are additional keyword arguments:\n",
    "\n",
    "f(1,2,3,4,c=5)=>TypeError: f() got multiple values for argument 'c'\n",
    "\n",
    "f(1,2,'CC',4,ff=5,ee='azxcv')\n",
    "=>\n",
    "These are ordinary arguments: 1 2 'CC'\n",
    "These are additional positional arguments: 4\n",
    "These are additional keyword arguments: key: ff->value: 5    key: ee->value: azxcv\n",
    "\n",
    "```"
   ]
  },
  {
   "cell_type": "code",
   "execution_count": null,
   "id": "8b1282a2-6de5-44b5-8879-960d37ed8f36",
   "metadata": {},
   "outputs": [],
   "source": [
    "def f(*args):\n",
    "    # unpacking all positional arguments\n",
    "    print(args,end='\\n====\\n')\n",
    "    print(*args)\n",
    "\n",
    "f(1)\n",
    "f(1,2)\n",
    "f(1,2,3,4,5) "
   ]
  },
  {
   "cell_type": "code",
   "execution_count": null,
   "id": "6e3653dd-0942-4126-a0d8-63ae3b2a307e",
   "metadata": {},
   "outputs": [],
   "source": [
    "def f(**kargs):\n",
    "    def print_kargs(**kargs):\n",
    "        for i,j in kargs.items():\n",
    "            print(f'key: {i}->value: {j}',end='    ')\n",
    "        print()\n",
    "    print(kargs,end='\\n====\\n')\n",
    "    print_kargs(**kargs)\n",
    "\n",
    "f(1) \n",
    "f(a=1)\n",
    "f(a=1,b=2)\n",
    "f(a=1,b=2,c=3,e=4) => {'a': 1, 'b': 2, 'c': 3, 'e': 4}\n"
   ]
  },
  {
   "cell_type": "code",
   "execution_count": null,
   "id": "73d5c5fa-2ec4-4df3-b324-66278fa86258",
   "metadata": {},
   "outputs": [],
   "source": [
    "def f(a,b,c='asdf',*args,**kargs):\n",
    "    def print_kargs(**kargs):\n",
    "        for i,j in kargs.items():\n",
    "            print(f'key: {i}->value: {j}',end='    ')\n",
    "        print()\n",
    "    print('These are ordinary arguments: ',end='')\n",
    "    print(a,b,c)\n",
    "    print('These are additional positional arguments: ',end='')\n",
    "    print(*args)\n",
    "    print('These are additional keyword arguments: ',end='')\n",
    "    print_kargs(**kargs)\n",
    "\n",
    "f(1,2)\n",
    "f(1,2,3)\n",
    "f(1,2,'CC',4,ff=5,ee='azxcv')"
   ]
  },
  {
   "cell_type": "markdown",
   "id": "6462ff05-b4e9-4ef1-b5a4-0f18ea925f10",
   "metadata": {},
   "source": [
    "### fucntion is first class citizen\n",
    "* you can pass fucntion to a function as one  argument\n",
    "* you can have a fucntion with argument meant to be a function\n",
    "* provide some ancillary work\n"
   ]
  },
  {
   "cell_type": "code",
   "execution_count": 7,
   "id": "06084f3b-47f0-451b-af09-558bcbe8adaf",
   "metadata": {},
   "outputs": [],
   "source": [
    "from time import time,sleep\n",
    "def outter(fun):\n",
    "    def inner(*arg,**kargs):\n",
    "        start=time()\n",
    "        print('*** start ***')\n",
    "        org_return=fun(*arg,**kargs)\n",
    "        end=time()\n",
    "        print(f'*** end taking {end-start}***')\n",
    "        return org_return\n",
    "        \n",
    "    return inner\n"
   ]
  },
  {
   "cell_type": "code",
   "execution_count": 15,
   "id": "209dbffc-c968-4dda-9956-84aec5f695f1",
   "metadata": {},
   "outputs": [],
   "source": [
    "def f1(x):\n",
    "    print('processing')\n",
    "    sleep(1.5)\n",
    "    return x*2\n",
    "\n",
    "f2=outter(f1)\n"
   ]
  },
  {
   "cell_type": "code",
   "execution_count": 12,
   "id": "f953982a-d349-4a1e-a83c-1c8ff191575a",
   "metadata": {},
   "outputs": [
    {
     "name": "stdout",
     "output_type": "stream",
     "text": [
      "processing\n",
      "8\n"
     ]
    }
   ],
   "source": [
    "a=f1(4)\n",
    "print(a)"
   ]
  },
  {
   "cell_type": "code",
   "execution_count": 14,
   "id": "0a13b39c-d33b-4b00-9e85-19ecef52cdfa",
   "metadata": {},
   "outputs": [
    {
     "name": "stdout",
     "output_type": "stream",
     "text": [
      "*** start ***\n",
      "processing\n",
      "*** end taking 1.5044991970062256***\n",
      "8\n"
     ]
    }
   ],
   "source": [
    "b=f2(3)\n",
    "print(b)"
   ]
  },
  {
   "cell_type": "markdown",
   "id": "3a511e70-2ffd-4123-9d48-ad0faec59734",
   "metadata": {},
   "source": [
    "#### decorator"
   ]
  },
  {
   "cell_type": "code",
   "execution_count": 16,
   "id": "aa091740-12c3-44c2-9f0f-3a75af4438fd",
   "metadata": {},
   "outputs": [],
   "source": [
    "@outter\n",
    "def f3(x):\n",
    "    print('processing')\n",
    "    sleep(1.5)\n",
    "    return x*2"
   ]
  },
  {
   "cell_type": "code",
   "execution_count": 17,
   "id": "addba501-d9ac-4165-b863-0d70f50ce737",
   "metadata": {},
   "outputs": [
    {
     "name": "stdout",
     "output_type": "stream",
     "text": [
      "*** start ***\n",
      "processing\n",
      "*** end taking 1.5037262439727783***\n",
      "12\n"
     ]
    }
   ],
   "source": [
    "c=f3(6)\n",
    "print(c)"
   ]
  },
  {
   "cell_type": "markdown",
   "id": "86485228-60bd-46d7-ae4f-1b214d1906cf",
   "metadata": {},
   "source": [
    "* Doc string\n",
    "\n",
    "function description\n",
    "\n",
    "syntax:\n",
    "\n",
    "```python\n",
    "def FucntionName(parameter1,parameter2...)\n",
    "    \"\"\"the code found below will print 'Hello, World!' to the console\"\"\"\n",
    "    ...\n",
    "```"
   ]
  },
  {
   "cell_type": "code",
   "execution_count": 152,
   "id": "919bfb7f-c741-4290-87a8-b3df026e13e1",
   "metadata": {},
   "outputs": [],
   "source": [
    "def area_of_circle(r):\n",
    "    \"\"\"return the area of a circle with given radius r. pi is aprroximated as  3.14.\"\"\"\n",
    "    pi = 3.14\n",
    "    result = pi * r * r\n",
    "    return result"
   ]
  },
  {
   "cell_type": "code",
   "execution_count": 153,
   "id": "f8a9799a-0c0b-4830-82bd-5483ec765b56",
   "metadata": {},
   "outputs": [
    {
     "name": "stdout",
     "output_type": "stream",
     "text": [
      "78.5\n",
      "return the area of a circle with given radius r. pi is aprroximated as  3.14.\n"
     ]
    }
   ],
   "source": [
    "print(area_of_circle(5))\n",
    "print(area_of_circle.__doc__)"
   ]
  },
  {
   "cell_type": "code",
   "execution_count": 168,
   "id": "b8ea6b98-39bd-4b87-a18c-94be96b38ca1",
   "metadata": {},
   "outputs": [
    {
     "ename": "TypeError",
     "evalue": "area_and_perimeter_of_circle() got multiple values for argument 'r'",
     "output_type": "error",
     "traceback": [
      "\u001b[1;31m---------------------------------------------------------------------------\u001b[0m",
      "\u001b[1;31mTypeError\u001b[0m                                 Traceback (most recent call last)",
      "Cell \u001b[1;32mIn[168], line 1\u001b[0m\n\u001b[1;32m----> 1\u001b[0m \u001b[43marea_and_perimeter_of_circle\u001b[49m\u001b[43m(\u001b[49m\u001b[38;5;241;43m3\u001b[39;49m\u001b[43m,\u001b[49m\u001b[43mr\u001b[49m\u001b[38;5;241;43m=\u001b[39;49m\u001b[38;5;241;43m5\u001b[39;49m\u001b[43m)\u001b[49m\n",
      "\u001b[1;31mTypeError\u001b[0m: area_and_perimeter_of_circle() got multiple values for argument 'r'"
     ]
    }
   ],
   "source": [
    "area_and_perimeter_of_circle(3,r=5)"
   ]
  },
  {
   "cell_type": "markdown",
   "id": "6a15e251-3e1f-4268-900e-0df0f1ea9a12",
   "metadata": {},
   "source": [
    "#### Scope\n",
    "\n",
    "Scope refers to where a variable or function name is available to be used. For example, when we create variables in a function (such as by giving names to our parameters), that data is not available outside of that function.\n",
    "\n",
    "* Global Scope\n",
    "\n",
    "So far we've been working in the global scope. That means that when we define a variable or a function, that name is accessible in every other place in our program, even within other functions.\n",
    "For example:\n"
   ]
  },
  {
   "cell_type": "code",
   "execution_count": 170,
   "id": "e3dcf1d0-5244-4bc7-9e9d-34edd86de052",
   "metadata": {},
   "outputs": [],
   "source": [
    "pi = 3.14159\n",
    "\n",
    "def get_area_of_circle(radius):\n",
    "    print(f'{pi = }')\n",
    "    return pi * radius * radius\n",
    "\n"
   ]
  },
  {
   "cell_type": "code",
   "execution_count": 171,
   "id": "69f0ce73-e530-4018-9f58-960462f6aaea",
   "metadata": {},
   "outputs": [
    {
     "name": "stdout",
     "output_type": "stream",
     "text": [
      "pi = 3.14159\n",
      "50.26544\n"
     ]
    }
   ],
   "source": [
    "print(get_area_of_circle(4))"
   ]
  },
  {
   "cell_type": "markdown",
   "id": "d603b59d-680c-48df-bdfe-6c87d445e436",
   "metadata": {},
   "source": [
    "function scope:"
   ]
  },
  {
   "cell_type": "code",
   "execution_count": 173,
   "id": "e88a63b5-f6c7-4041-a05f-a190e0147e34",
   "metadata": {},
   "outputs": [],
   "source": [
    "def get_area_of_circle(radius):\n",
    "    x=5\n",
    "    return pi * radius * radius"
   ]
  },
  {
   "cell_type": "code",
   "execution_count": 174,
   "id": "efa8a1bf-8064-4136-81af-e76fbb267811",
   "metadata": {},
   "outputs": [
    {
     "ename": "NameError",
     "evalue": "name 'x' is not defined",
     "output_type": "error",
     "traceback": [
      "\u001b[1;31m---------------------------------------------------------------------------\u001b[0m",
      "\u001b[1;31mNameError\u001b[0m                                 Traceback (most recent call last)",
      "Cell \u001b[1;32mIn[174], line 1\u001b[0m\n\u001b[1;32m----> 1\u001b[0m \u001b[38;5;28mprint\u001b[39m(\u001b[43mx\u001b[49m)\n",
      "\u001b[1;31mNameError\u001b[0m: name 'x' is not defined"
     ]
    }
   ],
   "source": [
    "print(x)"
   ]
  },
  {
   "cell_type": "markdown",
   "id": "676d2843-b299-4a49-b29d-bc4612f5f2ca",
   "metadata": {},
   "source": [
    "#### Lambda function\n",
    "```python\n",
    "f=lambda x: ...\n",
    "f=lambda x,y,z: ...\n",
    "```"
   ]
  },
  {
   "cell_type": "code",
   "execution_count": 129,
   "id": "c8a73110-667e-499b-9c16-035257d96d80",
   "metadata": {},
   "outputs": [],
   "source": [
    "f=lambda x: x+1\n",
    "ff=lambda x,y: x+y\n",
    "fff=lambda x,y,z: x*y*z\n",
    "ffff=lambda x: x[0]*x[1]*x[2]"
   ]
  },
  {
   "cell_type": "code",
   "execution_count": 130,
   "id": "716c16df-0ec5-430c-82d5-8d665f6277a0",
   "metadata": {},
   "outputs": [
    {
     "name": "stdout",
     "output_type": "stream",
     "text": [
      "5\n",
      "9\n",
      "120\n"
     ]
    },
    {
     "ename": "TypeError",
     "evalue": "<lambda>() takes 1 positional argument but 3 were given",
     "output_type": "error",
     "traceback": [
      "\u001b[1;31m---------------------------------------------------------------------------\u001b[0m",
      "\u001b[1;31mTypeError\u001b[0m                                 Traceback (most recent call last)",
      "Cell \u001b[1;32mIn[130], line 4\u001b[0m\n\u001b[0;32m      2\u001b[0m \u001b[38;5;28mprint\u001b[39m(ff(\u001b[38;5;241m4\u001b[39m,\u001b[38;5;241m5\u001b[39m))\n\u001b[0;32m      3\u001b[0m \u001b[38;5;28mprint\u001b[39m(fff(\u001b[38;5;241m4\u001b[39m,\u001b[38;5;241m5\u001b[39m,\u001b[38;5;241m6\u001b[39m))\n\u001b[1;32m----> 4\u001b[0m \u001b[38;5;28mprint\u001b[39m(\u001b[43mffff\u001b[49m\u001b[43m(\u001b[49m\u001b[38;5;241;43m4\u001b[39;49m\u001b[43m,\u001b[49m\u001b[38;5;241;43m5\u001b[39;49m\u001b[43m,\u001b[49m\u001b[38;5;241;43m6\u001b[39;49m\u001b[43m)\u001b[49m)\n",
      "\u001b[1;31mTypeError\u001b[0m: <lambda>() takes 1 positional argument but 3 were given"
     ]
    }
   ],
   "source": [
    "print(f(4))\n",
    "print(ff(4,5))\n",
    "print(fff(4,5,6))\n",
    "print(ffff((4,5,6)))"
   ]
  },
  {
   "cell_type": "markdown",
   "id": "c31a54fa-5ed1-446c-801a-a19eb65a8233",
   "metadata": {},
   "source": [
    "#### Order of Functions\n",
    "All functions must be defined before they're used.\n",
    "* usually\n",
    "```python\n",
    "def f():\n",
    "    ...\n",
    "def g():\n",
    "    f()\n",
    "    ...\n",
    "g()\n",
    "```\n",
    "* This also works \n",
    "```python\n",
    "def g():\n",
    "    f()\n",
    "    ...\n",
    "def f():\n",
    "    ...\n",
    "g()\n",
    "```\n",
    "\n",
    "* But not like this\n",
    "```python\n",
    "def g():\n",
    "    f()\n",
    "    ...\n",
    "g() ====>Error\n",
    "def f():\n",
    "    ...\n",
    "```\n",
    "** `def` just like a declaration. The order does not matter if you call them later (after their dependencies)!**"
   ]
  },
  {
   "cell_type": "markdown",
   "id": "8d257207-f169-440a-82a1-e0720004e4d9",
   "metadata": {},
   "source": [
    "### Flow control"
   ]
  },
  {
   "cell_type": "markdown",
   "id": "0c43a3e5-703c-49e0-ac3a-441c02160c15",
   "metadata": {},
   "source": [
    "#### if\n",
    "```python \n",
    "if CONDITION:\n",
    "    ...\n",
    "\n",
    "if CONDITION:\n",
    "    ...\n",
    "elif CONDITION:\n",
    "    ...\n",
    "\n",
    "\n",
    "if CONDITION:\n",
    "    ...\n",
    "elif CONDITION:\n",
    "    ...\n",
    "else:\n",
    "    ...\n",
    "```"
   ]
  },
  {
   "cell_type": "markdown",
   "id": "b8ef524a-b37e-40e0-9462-228ab3b664ee",
   "metadata": {},
   "source": [
    "#### for, while; break, continue \n",
    "```python \n",
    "for i in ITERABLE:\n",
    "    ...\n",
    "ITERABLE: object with iter\n",
    "tuple list set dict generator\n",
    "while CONDITION:\n",
    "    ...\n",
    "```"
   ]
  },
  {
   "cell_type": "code",
   "execution_count": 6,
   "id": "ae0d9f48-9066-418e-ab51-927d72356bf1",
   "metadata": {},
   "outputs": [
    {
     "name": "stdout",
     "output_type": "stream",
     "text": [
      "0\n",
      "1\n",
      "2\n",
      "3\n",
      "4\n",
      "5\n",
      "6\n",
      "7\n",
      "8\n",
      "9\n"
     ]
    }
   ],
   "source": [
    "\n",
    "for i in range(0, 10):\n",
    "    print(i)\n",
    "\n"
   ]
  },
  {
   "cell_type": "code",
   "execution_count": 7,
   "id": "bdda90fa-8ded-4fe9-b085-77b68250a62a",
   "metadata": {},
   "outputs": [
    {
     "name": "stdout",
     "output_type": "stream",
     "text": [
      "0\n",
      "10\n",
      "2\n"
     ]
    }
   ],
   "source": [
    "for i in (0, 10, 2):\n",
    "     print(i)\n"
   ]
  },
  {
   "cell_type": "code",
   "execution_count": 8,
   "id": "f2ea3da3-7502-4c6a-a7c7-74be9673c288",
   "metadata": {},
   "outputs": [
    {
     "name": "stdout",
     "output_type": "stream",
     "text": [
      "3\n",
      "0\n",
      "-1\n"
     ]
    }
   ],
   "source": [
    "for i in [3, 0, -1]:\n",
    "     print(i)\n"
   ]
  },
  {
   "cell_type": "code",
   "execution_count": 9,
   "id": "54cfede0-10fe-45cd-95f6-a16118e3668e",
   "metadata": {},
   "outputs": [
    {
     "name": "stdout",
     "output_type": "stream",
     "text": [
      "0\n",
      "3\n",
      "-1\n"
     ]
    }
   ],
   "source": [
    "for i in {3, 0, -1}:\n",
    "     print(i)\n"
   ]
  },
  {
   "cell_type": "code",
   "execution_count": 43,
   "id": "56b0a8dc-b49b-4530-8079-e50bcaed48dd",
   "metadata": {},
   "outputs": [
    {
     "name": "stdout",
     "output_type": "stream",
     "text": [
      "a\n",
      "b\n",
      "c\n",
      "===\n",
      "a\n",
      "b\n",
      "c\n",
      "===\n",
      "3\n",
      "0\n",
      "-1\n",
      "===\n",
      "a 3\n",
      "b 0\n",
      "c -1\n",
      "===\n",
      "('a', 3)\n",
      "('b', 0)\n",
      "('c', -1)\n",
      "===\n"
     ]
    }
   ],
   "source": [
    "for i in {\"a\":3,\"b\": 0, \"c\":-1}:\n",
    "     print(i)\n",
    "print('===')\n",
    "for i in {\"a\":3,\"b\": 0, \"c\":-1}.keys():\n",
    "     print(i)\n",
    "print('===')\n",
    "for i in {\"a\":3,\"b\": 0, \"c\":-1}.values():\n",
    "    print(i)\n",
    "print('===')\n",
    "for i,j in {\"a\":3,\"b\": 0, \"c\":-1}.items():\n",
    "    print(i,j)\n",
    "print('===')\n",
    "for i in {\"a\":3,\"b\": 0, \"c\":-1}.items():\n",
    "    print(i)\n",
    "print('===')\n",
    "\n"
   ]
  },
  {
   "cell_type": "code",
   "execution_count": 13,
   "id": "8232e48c-41dd-461f-8161-6183b7d25693",
   "metadata": {},
   "outputs": [
    {
     "name": "stdout",
     "output_type": "stream",
     "text": [
      "0\n",
      "2\n",
      "4\n",
      "6\n",
      "8\n",
      "===\n",
      "0\n",
      "2\n",
      "4\n",
      "6\n",
      "===\n",
      "0\n",
      "2\n",
      "4\n",
      "-6\n",
      "-8\n",
      "-10\n",
      "===\n"
     ]
    }
   ],
   "source": [
    "for i in range(0, 10,2):\n",
    "    print(i)\n",
    "print('===')\n",
    "for i in range(0, 15,2):\n",
    "    if i>7:\n",
    "        break\n",
    "    print(i)\n",
    "print('===')\n",
    "for i in range(0, 11,2):\n",
    "    if i>4:\n",
    "        print(-i)\n",
    "        continue\n",
    "    print(i)\n",
    "print('===')"
   ]
  },
  {
   "cell_type": "markdown",
   "id": "6b0c85cb-f516-4f69-8ae2-08b5acffb643",
   "metadata": {},
   "source": [
    "#### list/tuple/set/dict comprehension and generator\n",
    "* **Basic**\n",
    "```python\n",
    "generator => (function(x) for x in ITERABLE)\n",
    "list comprehension => list(function(x) for x in ITERABLE) or [function(x) for x in ITERABLE]\n",
    "tuple comprehension => tuple(function(x) for x in ITERABLE)\n",
    "set comprehension => set(function(x) for x in ITERABLE) or {function(x) for x in ITERABLE}\n",
    "dict comprehension => dict(key:function(x) for x in ITERABLE) or {key:function(x) for x in ITERABLE}\n",
    "```\n",
    "* **Dict Iterate**\n",
    "```python\n",
    "(function(i) for i in {\"a\":3,\"b\": 0, \"c\":-1}.keys())\n",
    "(function(i) for i in {\"a\":3,\"b\": 0, \"c\":-1}.values())\n",
    "(function(i)/fucntion(j)/function(i,j) for i,j in {\"a\":3,\"b\": 0, \"c\":-1}.items())\n",
    "```\n",
    "\n",
    "\n",
    "* **Advance**\n",
    "```python\n",
    "generator => (function(x) for x in ITERABLE if CONDITION)\n",
    "generator => (function(x) for x in ITERABLE if CONDITION)\n",
    "\n",
    "```"
   ]
  },
  {
   "cell_type": "code",
   "execution_count": 18,
   "id": "7e972e42-8d5f-45b0-944b-ad2abdb40536",
   "metadata": {},
   "outputs": [],
   "source": [
    "from typing import Iterable"
   ]
  },
  {
   "cell_type": "code",
   "execution_count": 47,
   "id": "14191fd6-946b-49fd-82a4-5d5de9c178d9",
   "metadata": {},
   "outputs": [],
   "source": [
    "def is_iterable(a):\n",
    "    isinstance(a,Iterable)\n",
    "    check=getattr(a,'__iter__',False)\n",
    "    if check is not None:\n",
    "        print(f'{a} is an iterable')\n",
    "    else:\n",
    "        print(f'{a} is not an iterable')\n",
    "\n"
   ]
  },
  {
   "cell_type": "code",
   "execution_count": 49,
   "id": "ccc568e8-dfd2-4ce3-8f51-f68d180fd649",
   "metadata": {},
   "outputs": [
    {
     "name": "stdout",
     "output_type": "stream",
     "text": [
      "range(1, 5) is an iterable\n",
      "(1, 5) is an iterable\n",
      "[1, 5] is an iterable\n",
      "{1, 5} is an iterable\n",
      "{'a': 1, 'b': 5} is an iterable\n",
      "dict_keys(['a', 'b']) is an iterable\n",
      "dict_values([1, 5]) is an iterable\n",
      "dict_items([('a', 1), ('b', 5)]) is an iterable\n"
     ]
    }
   ],
   "source": [
    "is_iterable(range(1,5))\n",
    "is_iterable((1,5))\n",
    "is_iterable([1,5])\n",
    "is_iterable({1,5})\n",
    "is_iterable({'a':1,'b':5})\n",
    "is_iterable({'a':1,'b':5}.keys())\n",
    "is_iterable({'a':1,'b':5}.values())\n",
    "is_iterable({'a':1,'b':5}.items())\n",
    "\n"
   ]
  },
  {
   "cell_type": "code",
   "execution_count": 35,
   "id": "7d3b4e82-ed12-406c-87f3-2cc173cbb5fb",
   "metadata": {},
   "outputs": [
    {
     "data": {
      "text/plain": [
       "[0, 1, 2, 3, 4, 5, 6, 7, 8, 9]"
      ]
     },
     "execution_count": 35,
     "metadata": {},
     "output_type": "execute_result"
    }
   ],
   "source": [
    "b=list(a)\n",
    "b"
   ]
  },
  {
   "cell_type": "code",
   "execution_count": 36,
   "id": "ce6efe65-cf11-4e6a-9746-0e23a2f0e47c",
   "metadata": {},
   "outputs": [
    {
     "data": {
      "text/plain": [
       "[0, 2, 4, 6, 8, 10, 12, 14, 16, 18]"
      ]
     },
     "execution_count": 36,
     "metadata": {},
     "output_type": "execute_result"
    }
   ],
   "source": [
    "c=[i*2 for i in b]\n",
    "c"
   ]
  },
  {
   "cell_type": "code",
   "execution_count": 54,
   "id": "e211f8ec-ce28-4419-a35d-10f145b5db0b",
   "metadata": {},
   "outputs": [
    {
     "name": "stdout",
     "output_type": "stream",
     "text": [
      "{'0': 0, '1': 2, '2': 4, '3': 6, '4': 8, '5': 10, '6': 12, '7': 14, '8': 16, '9': 18}\n",
      "<class 'dict'>\n"
     ]
    }
   ],
   "source": [
    "e={str(i):i*2 for i in b}\n",
    "print(e)\n",
    "print(type(e))"
   ]
  },
  {
   "cell_type": "code",
   "execution_count": 53,
   "id": "a8f28c1d-a6b0-4d7b-afd0-0d378bf1d616",
   "metadata": {},
   "outputs": [
    {
     "name": "stdout",
     "output_type": "stream",
     "text": [
      "{'4', '5', '3', '1', '9', '8', '0', '2', '6', '7'}\n",
      "<class 'set'>\n"
     ]
    }
   ],
   "source": [
    "e={str(i) for i in b}\n",
    "print(e)\n",
    "print(type(e))"
   ]
  },
  {
   "cell_type": "code",
   "execution_count": 39,
   "id": "b5a6e1aa-9334-41d5-b571-536f713d0228",
   "metadata": {},
   "outputs": [
    {
     "data": {
      "text/plain": [
       "[0, 10, -2, 30, -4, 50, -6, 70, -8, 90]"
      ]
     },
     "execution_count": 39,
     "metadata": {},
     "output_type": "execute_result"
    }
   ],
   "source": [
    "def ff(x):\n",
    "    if x %2 ==0:\n",
    "        return -x\n",
    "    else:\n",
    "        return 10*x\n",
    "d=[ff(i) for i in b]\n",
    "d"
   ]
  },
  {
   "cell_type": "code",
   "execution_count": 52,
   "id": "44af1f2e-e32e-4770-b00f-6e96a5db5797",
   "metadata": {},
   "outputs": [
    {
     "name": "stdout",
     "output_type": "stream",
     "text": [
      "[0, 2, 4, 6, 8]\n",
      "[0, 10, 20, 30, 40]\n"
     ]
    }
   ],
   "source": [
    "e=[i for i in a if i %2 ==0]\n",
    "print(e)\n",
    "e=[i for i in range(50) if i %2 ==0 and i%5==0]\n",
    "print(e)"
   ]
  },
  {
   "cell_type": "markdown",
   "id": "4c00d368-e2d4-48a8-9313-2ee075fb3b9c",
   "metadata": {},
   "source": [
    "#### generator\n",
    "```python\n",
    "def custom_generator(x):\n",
    "    ....\n",
    "    yield ...\n",
    "```"
   ]
  },
  {
   "cell_type": "code",
   "execution_count": 119,
   "id": "86e32481-322e-4fc7-9f13-40a7fe93ffe9",
   "metadata": {},
   "outputs": [],
   "source": [
    "def generator1():\n",
    "    print('first')\n",
    "    yield 1\n",
    "    print('second')\n",
    "    yield 2\n",
    "    print('third')\n",
    "    yield 3\n",
    "\n",
    "def generator2(x):\n",
    "    for i in range(x):\n",
    "        if i %2 ==0:\n",
    "            yield i\n",
    "    "
   ]
  },
  {
   "cell_type": "code",
   "execution_count": 120,
   "id": "534af5c0-ebbc-4683-be45-eb32b28b5158",
   "metadata": {},
   "outputs": [],
   "source": [
    "a=generator1()\n",
    "b=generator2(20)"
   ]
  },
  {
   "cell_type": "code",
   "execution_count": 121,
   "id": "6d1f0be1-f0e6-4437-a21e-83b405a4965a",
   "metadata": {},
   "outputs": [
    {
     "name": "stdout",
     "output_type": "stream",
     "text": [
      "first\n",
      "second\n",
      "third\n",
      "[1, 2, 3]\n",
      "===\n",
      "[0, 2, 4, 6, 8, 10, 12, 14, 16, 18]\n"
     ]
    }
   ],
   "source": [
    "c=list(a)\n",
    "print(c)\n",
    "print('===')\n",
    "d=list(b)\n",
    "print(d)"
   ]
  },
  {
   "cell_type": "code",
   "execution_count": 123,
   "id": "83ffcb1d-0a86-49e7-a6b1-f08101cacbd5",
   "metadata": {},
   "outputs": [
    {
     "name": "stdout",
     "output_type": "stream",
     "text": [
      "[]\n",
      "===\n",
      "[]\n"
     ]
    }
   ],
   "source": [
    "c=list(a)\n",
    "print(c)\n",
    "print('===')\n",
    "d=list(b)\n",
    "print(d)"
   ]
  },
  {
   "cell_type": "markdown",
   "id": "07f751df-e0e1-44c2-961c-18f371ad9686",
   "metadata": {},
   "source": [
    "### Error handling:  try catch; finally else"
   ]
  },
  {
   "cell_type": "code",
   "execution_count": 2,
   "id": "d8eb2084-964a-4a57-92a2-69efb4a0812f",
   "metadata": {},
   "outputs": [
    {
     "name": "stdout",
     "output_type": "stream",
     "text": [
      "can't divide by zero\n"
     ]
    }
   ],
   "source": [
    "try:\n",
    "  10 / 0\n",
    "except Exception:\n",
    "  print(\"can't divide by zero\")\n"
   ]
  },
  {
   "cell_type": "code",
   "execution_count": 5,
   "id": "e010e70f-93ae-43f1-86da-0bf1a529f832",
   "metadata": {},
   "outputs": [
    {
     "name": "stdout",
     "output_type": "stream",
     "text": [
      "0 division\n",
      "======\n",
      "unsupported operand type(s) for /: 'str' and 'int' <class 'TypeError'>\n"
     ]
    }
   ],
   "source": [
    "\n",
    "try:\n",
    "    10/0\n",
    "except ZeroDivisionError:\n",
    "    print(\"0 division\")\n",
    "except Exception as e:\n",
    "    print(e)\n",
    "    \n",
    "print('======')\n",
    "try:\n",
    "    nums = [0, 1]\n",
    "    print(nums[2])\n",
    "except IndexError:\n",
    "    print(\"index error\")\n",
    "except Exception as e:\n",
    "    print(e)\n",
    "\n",
    "print('======')\n",
    "try:\n",
    "    'a'/0\n",
    "except ZeroDivisionError:\n",
    "    print(\"0 division\")\n",
    "except Exception as e:\n",
    "    print(e,type(e))\n",
    "\n"
   ]
  },
  {
   "cell_type": "markdown",
   "id": "5f00f195-4446-4f4e-ad43-46edad06b17c",
   "metadata": {},
   "source": [
    "### Class\n",
    "```python\n",
    "class Account:\n",
    "    def __init__(self, number, name,account):\n",
    "        self.number = number\n",
    "        self.name = name\n",
    "        self.balance = 0\n",
    "        self.account = account\n",
    "        \n",
    "    def deposit(self, amount):  #存款動作: amount代表存入金額\n",
    "        if amount <= 0:\n",
    "            raise ValueError('must be positive')\n",
    "        self.balance += amount\n",
    "        \n",
    "    def withdraw(self, amount): #取款動作: amount代表取款金額\n",
    "        if amount <= self.balance:\n",
    "            self.balance -= amount\n",
    "        else:\n",
    "            raise RuntimeError('balance not enough')\n",
    "```"
   ]
  },
  {
   "cell_type": "code",
   "execution_count": 27,
   "id": "f0441e5e-986c-47c3-a687-2c466973e1a7",
   "metadata": {},
   "outputs": [],
   "source": [
    "class Account:\n",
    "    def __init__(self, number, name):\n",
    "        self.number = number\n",
    "        self.name = name\n",
    "        self.balance = 0\n",
    "        self.account = name+'_account'\n",
    "        \n",
    "    def deposit(self, amount):  #存款動作: amount代表存入金額\n",
    "        if amount <= 0:\n",
    "            raise ValueError('must be positive')\n",
    "        self.balance += amount\n",
    "        \n",
    "    def withdraw(self, amount): #取款動作: amount代表取款金額\n",
    "        if amount <= self.balance:\n",
    "            self.balance -= amount\n",
    "        else:\n",
    "            raise RuntimeError('balance not enough')"
   ]
  },
  {
   "cell_type": "code",
   "execution_count": 28,
   "id": "5ac35d89-9df3-4dac-8ba5-87ab732e8ede",
   "metadata": {},
   "outputs": [
    {
     "name": "stdout",
     "output_type": "stream",
     "text": [
      "<__main__.Account object at 0x000001E05D00D840>\n"
     ]
    }
   ],
   "source": [
    "a=Account(10,'anne')\n",
    "print(a)"
   ]
  },
  {
   "cell_type": "code",
   "execution_count": 29,
   "id": "305a983c-a3ca-4a05-9980-def81fc57836",
   "metadata": {},
   "outputs": [
    {
     "name": "stdout",
     "output_type": "stream",
     "text": [
      "10 anne anne_account\n"
     ]
    }
   ],
   "source": [
    "print(a.number,a.name,a.account)"
   ]
  },
  {
   "cell_type": "code",
   "execution_count": 31,
   "id": "6f48c79c-4ead-48d1-82c4-438f33aabba5",
   "metadata": {},
   "outputs": [
    {
     "name": "stdout",
     "output_type": "stream",
     "text": [
      "288\n"
     ]
    }
   ],
   "source": [
    "a.deposit(144)\n",
    "print(a.balance)"
   ]
  },
  {
   "cell_type": "markdown",
   "id": "6b6bedae-57a4-44e1-9bed-504e46846bb3",
   "metadata": {},
   "source": [
    "#### why class\n",
    "* Imagine without class and you have to store all information of an Account with dict.\n",
    "* Both deposit and withdraw function is in global scope.\n",
    "* But if these two only related to information of a account why not have an encapsulation technique to isloate these member related funtion ?\n",
    "* And from from the name of the class member you will know what the method is about from its name in most of the time.\n",
    "* Helpful for other to under stand your code.\n",
    "* Class also a relization of the conceptual model or the Thought process of the codebase author.\n"
   ]
  },
  {
   "cell_type": "markdown",
   "id": "f9982d1a-afce-463f-8f19-57e4c042537b",
   "metadata": {},
   "source": [
    "### Stack Trace\n",
    "```python\n",
    "PythonError: Traceback (most recent call last):\n",
    "  File \"<exec>\", line 6, in <module>\n",
    "  File \"<string>\", line 1, in <module>\n",
    "  File \"/home/pyodide/main.py\", line 3\n",
    "    msg = f\"You have {strength} strength, {wisdom} wisdom, and {dexterity} dexterity for a total of {total} stats.\n",
    "```\n",
    "```\n",
    "PythonError: Traceback (most recent call last):\n",
    "↑      File \"<exec>\", line 6, in <module>\n",
    "↑      File \"<string>\", line 1, in <module>\n",
    "↑      File \"/home/pyodide/main.py\", line 3\n",
    "error message ->    msg = f\"You have {strength} strength, {wisdom} wisdom, and {dexterity} dexterity for a total of {total} stats.\n",
    "```"
   ]
  },
  {
   "cell_type": "markdown",
   "id": "5abc8398-800b-4c88-b847-6e99b24a0688",
   "metadata": {},
   "source": [
    "### import Module\n",
    "```python\n",
    "from pakcage import XXX,YYY\n",
    "XXX ...\n",
    "YYY ...\n",
    "from pakcage import XXX as asdf\n",
    "from pakcage import YYY as zxcv\n",
    "asdf ...\n",
    "zxcv ...\n",
    "import pakcage as asdf\n",
    "asdf.XXX ...\n",
    "asdf.YYY ...\n",
    "import pakcage\n",
    "package.XXX\n",
    "```"
   ]
  },
  {
   "cell_type": "markdown",
   "id": "3c2b9634-c5c3-46ed-89b3-ae0661e38e14",
   "metadata": {},
   "source": [
    "#### Caveat\n",
    "\n",
    "\n",
    "* There are things/quirks of Python that are worth to understand but I will not carry you to all of them.\n",
    "    \n",
    "    - Dunder/magic method\n",
    "    - @decorator\n",
    "    - property\n",
    "    - classmethod\n",
    "    - setter\n",
    "    - map filter reduce\n",
    "    - Module import \n",
    "    - etc.\n",
    "    - \n",
    "* There are concepts that are language agnostic but just how computer works, low-level stuff, which you should search or basiclly ask chatgpt for that.\n",
    "* you should not have your mind on syntax in details, trying hard to memorize everything. Instead, understand the Skeleton of what these are trying to do first. The rest of why can and why can not could let chatgpt for heaving lifting searching works.\n",
    "* Although this lecture is from button-up. The more preferable way of solving things is from top to button. Decompose a job into several tasks and then think about steps in each task."
   ]
  },
  {
   "cell_type": "markdown",
   "id": "6fdcbe5c-5b02-4282-ab10-5671fb7e93ba",
   "metadata": {},
   "source": [
    "# Environment setup, python  jupyter conda env \n",
    "- ~~[python](https://www.python.org/downloads/windows/)~~\n",
    "- [conda(Miniconda)](https://www.anaconda.com/docs/getting-started/miniconda/install#windows-installation)\n",
    "    - [conda create env](https://docs.conda.io/projects/conda/en/stable/commands/create.html)\n",
    "        - conda create --name myenv python=3.5\n",
    "    - conda activate\n",
    "    - [conda install](https://docs.conda.io/projects/conda/en/stable/commands/install.html) OR [pip install](https://pip.pypa.io/en/stable/cli/pip_install/)\n",
    "        - conda install -c conda-forge jupyter\n",
    "    - conda list \\[package name\\] \n",
    "    \n",
    "- jupyter\n",
    "    - conda install ipykernel\n",
    "    - ipython kernel install --name 環境名稱 --user\n",
    "- start jupyter lab\n",
    "    - jupyter lab --ip=0.0.0.0 "
   ]
  },
  {
   "cell_type": "markdown",
   "id": "87522018-101b-45ed-9d77-114db2636266",
   "metadata": {},
   "source": [
    "\n",
    "- Application:\n",
    "    - stack trace \n",
    "    - reading docs pandas openai\n",
    "    - using 3rd party library, use pandas openai as an example "
   ]
  },
  {
   "cell_type": "code",
   "execution_count": null,
   "id": "bd94365d-e2de-4a90-a2b2-6c617797ba53",
   "metadata": {},
   "outputs": [],
   "source": [
    "\n"
   ]
  },
  {
   "cell_type": "code",
   "execution_count": null,
   "id": "46b1a9be-a314-474c-b558-89c65949eed5",
   "metadata": {},
   "outputs": [],
   "source": []
  }
 ],
 "metadata": {
  "kernelspec": {
   "display_name": "Python 3 (ipykernel)",
   "language": "python",
   "name": "python3"
  },
  "language_info": {
   "codemirror_mode": {
    "name": "ipython",
    "version": 3
   },
   "file_extension": ".py",
   "mimetype": "text/x-python",
   "name": "python",
   "nbconvert_exporter": "python",
   "pygments_lexer": "ipython3",
   "version": "3.10.11"
  }
 },
 "nbformat": 4,
 "nbformat_minor": 5
}
