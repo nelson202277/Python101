{
 "cells": [
  {
   "cell_type": "markdown",
   "id": "41bf40f1-70f7-4cf5-8254-d38964605c35",
   "metadata": {},
   "source": [
    "* reading docs pandas openai\n",
    "    * [openai](https://platform.openai.com/docs/api-reference/chat/create?lang=python)\n",
    "    * [pandas](https://pandas.pydata.org/docs/reference/index.html)\n",
    "    * [chatgpt](https://chatgpt.com/)\n",
    "* using 3rd party library, use pandas openai as an example\n",
    "    * "
   ]
  },
  {
   "cell_type": "code",
   "execution_count": 1,
   "id": "bce80f0f-777c-4788-8ff3-695ee2c8d1e6",
   "metadata": {},
   "outputs": [
    {
     "name": "stdout",
     "output_type": "stream",
     "text": [
      "# packages in environment at C:\\Users\\User\\miniconda3\\envs\\dev:\n",
      "#\n",
      "# Name                    Version                   Build  Channel\n",
      "openai                    1.65.5             pyhd8ed1ab_0    conda-forge\n"
     ]
    }
   ],
   "source": [
    "!conda list openai"
   ]
  },
  {
   "cell_type": "code",
   "execution_count": 2,
   "id": "be4ad4ac-8fdb-4647-9c40-9cf987ac689d",
   "metadata": {},
   "outputs": [
    {
     "name": "stdout",
     "output_type": "stream",
     "text": [
      "# packages in environment at C:\\Users\\User\\miniconda3\\envs\\dev:\n",
      "#\n",
      "# Name                    Version                   Build  Channel\n",
      "pandas                    2.2.3           py310hb4db72f_1    conda-forge\n"
     ]
    }
   ],
   "source": [
    "!conda list pandas"
   ]
  },
  {
   "cell_type": "code",
   "execution_count": null,
   "id": "89787a73-bcd3-4caf-867d-c601de8ad7a4",
   "metadata": {},
   "outputs": [],
   "source": [
    "import pandas as pd\n",
    "\n",
    "# Creating a DataFrame from a dictionary\n",
    "data = {\n",
    "    \"Name\": [\"Alice\", \"Bob\", \"Charlie\"],\n",
    "    \"Age\": [25, 30, 35],\n",
    "    \"City\": [\"New York\", \"Los Angeles\", \"Chicago\"]\n",
    "}\n",
    "\n",
    "df = pd.DataFrame(data)\n",
    "print(df)\n"
   ]
  },
  {
   "cell_type": "code",
   "execution_count": null,
   "id": "f62ee755-8be8-498f-86c0-0a51c41a27fd",
   "metadata": {},
   "outputs": [],
   "source": [
    "df = pd.read_csv(\"data.csv\")  # Make sure you have a CSV file\n",
    "print(df.head())  # Show first 5 rows\n"
   ]
  },
  {
   "cell_type": "code",
   "execution_count": null,
   "id": "646e2e21-f56e-4f9a-b3cf-ad7b06be64ef",
   "metadata": {},
   "outputs": [],
   "source": [
    "# Adding a new column\n",
    "df[\"Salary\"] = [50000, 60000, 70000]\n",
    "print(df)\n",
    "\n",
    "# Modifying an existing column\n",
    "df[\"Age\"] = df[\"Age\"] + 1  # Increase everyone's age by 1\n",
    "print(df)\n"
   ]
  },
  {
   "cell_type": "code",
   "execution_count": null,
   "id": "c0aba000-0218-4ed7-9b1d-0b352af157fc",
   "metadata": {},
   "outputs": [],
   "source": [
    "# Find people older than 30\n",
    "filtered_df = df[df[\"Age\"] > 30]\n",
    "print(filtered_df)\n"
   ]
  },
  {
   "cell_type": "code",
   "execution_count": null,
   "id": "b4846f4c-19e8-429e-a602-ba63318db071",
   "metadata": {},
   "outputs": [],
   "source": [
    "df_grouped = df.groupby(\"City\")[\"Age\"].mean()\n",
    "print(df_grouped)\n"
   ]
  },
  {
   "cell_type": "code",
   "execution_count": null,
   "id": "2e786595-054a-4ee7-aed0-855e26b61cce",
   "metadata": {},
   "outputs": [],
   "source": [
    "df.fillna(\"Unknown\", inplace=True)  # Fill missing values\n",
    "df.dropna(inplace=True)  # Drop rows with missing values\n"
   ]
  },
  {
   "cell_type": "code",
   "execution_count": null,
   "id": "ac44cb15-1e55-40e8-9ac3-59151d2df5cb",
   "metadata": {},
   "outputs": [],
   "source": [
    "df_sorted = df.sort_values(\"Age\", ascending=False)\n",
    "print(df_sorted)\n"
   ]
  },
  {
   "cell_type": "code",
   "execution_count": null,
   "id": "7513c1eb-4642-4298-9eb3-44807131fe3e",
   "metadata": {},
   "outputs": [],
   "source": [
    "import pandas as pd"
   ]
  },
  {
   "cell_type": "code",
   "execution_count": null,
   "id": "9f649004-f349-47c8-8e66-188ce042a935",
   "metadata": {},
   "outputs": [],
   "source": [
    "from openai import OpenAI\n",
    "client = OpenAI()\n",
    "\n",
    "completion = client.chat.completions.create(\n",
    "  model=\"gpt-4o-mini\",\n",
    "  messages=[\n",
    "    {\"role\": \"developer\", \"content\": \"You are a helpful assistant.\"},\n",
    "    {\"role\": \"user\", \"content\": \"Hello!\"}\n",
    "  ],\n",
    "    \n",
    ")\n",
    "\n",
    "print(completion.choices[0].message)\n"
   ]
  },
  {
   "cell_type": "code",
   "execution_count": null,
   "id": "88ebe027-32d5-48b6-a31b-2aa902394e30",
   "metadata": {},
   "outputs": [],
   "source": [
    "completion = client.chat.completions.create(\n",
    "  model=\"gpt-4o-mini\",\n",
    "  messages=[\n",
    "    {\"role\": \"developer\", \"content\": \"You are a helpful assistant.\"},\n",
    "    {\"role\": \"user\", \"content\": \"Hello!\"}\n",
    "  ],\n",
    "    stream=True\n",
    ")\n",
    "\n",
    "for chunk in completion:\n",
    "  print(chunk.choices[0].delta)"
   ]
  }
 ],
 "metadata": {
  "kernelspec": {
   "display_name": "dev",
   "language": "python",
   "name": "dev"
  },
  "language_info": {
   "codemirror_mode": {
    "name": "ipython",
    "version": 3
   },
   "file_extension": ".py",
   "mimetype": "text/x-python",
   "name": "python",
   "nbconvert_exporter": "python",
   "pygments_lexer": "ipython3",
   "version": "3.10.15"
  }
 },
 "nbformat": 4,
 "nbformat_minor": 5
}
